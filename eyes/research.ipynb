{
 "cells": [
  {
   "cell_type": "code",
   "execution_count": 6,
   "metadata": {
    "collapsed": false
   },
   "outputs": [],
   "source": [
    "import sys\n",
    "from PIL import Image, ImageDraw, ImageFont\n",
    "from __future__ import print_function\n",
    "import random \n"
   ]
  },
  {
   "cell_type": "code",
   "execution_count": 106,
   "metadata": {
    "collapsed": true
   },
   "outputs": [],
   "source": [
    "#draw smile \n",
    "image = Image.new('RGB', (128, 128), 'white')\n",
    "draw = ImageDraw.Draw(image)\n",
    "draw.ellipse((0, 0, 89, 89), 'yellow', 'blue')  # made this a little smaller..\n",
    "draw.ellipse((25, 20, 35, 30), 'yellow', 'blue')\n",
    "draw.ellipse((50, 20, 60, 30), 'yellow', 'blue')\n",
    "draw.arc((20, 40, 70, 70), 0, 180, 'black')  # draw an arc in black\n",
    "image.show()"
   ]
  },
  {
   "cell_type": "code",
   "execution_count": 7,
   "metadata": {
    "collapsed": true
   },
   "outputs": [],
   "source": [
    "def convert_params_to_coord(angle, distane_from_center_percent, outer_radius):\n",
    "    import math \n",
    "    \n",
    "    angle_rad = math.radians(360 - angle)\n",
    "    distance = distane_from_center_percent * outer_radius\n",
    "    x = math.ceil(distance * math.cos(angle_rad))\n",
    "    y = math.ceil(distance * math.sin(angle_rad))\n",
    "    \n",
    "    return x, y\n",
    "    \n",
    "    "
   ]
  },
  {
   "cell_type": "code",
   "execution_count": 146,
   "metadata": {
    "collapsed": false
   },
   "outputs": [],
   "source": [
    "#test convert_params_to_coord()\n",
    "# convert_params_to_coord(30, 0.2, 70)"
   ]
  },
  {
   "cell_type": "code",
   "execution_count": 8,
   "metadata": {
    "collapsed": false
   },
   "outputs": [],
   "source": [
    "def draw_eye(draw, angle, distane_from_center_percent):\n",
    "    #settings \n",
    "    bound_box = (1, 1, 127, 127)\n",
    "    center_coords = (64, 64)\n",
    "    outer_radius = (bound_box[2] - bound_box[0]) / 2\n",
    "    pr = 20  #pupil radius \n",
    "    pupil_radius = outer_radius - pr\n",
    "    \n",
    "    #calc x, y shift from center\n",
    "    x, y = convert_params_to_coord(angle, distane_from_center_percent, pupil_radius)  \n",
    "     \n",
    "    x0 = center_coords[0] + x - pr\n",
    "    y0 = center_coords[1] + y - pr\n",
    "    x1 = center_coords[0] + x + pr\n",
    "    y1 = center_coords[1] + y + pr\n",
    "    \n",
    "    \n",
    "    #eye outer border\n",
    "    draw.ellipse((3, 3, 125, 125), '#14F6FA', '#14F6FA')\n",
    "    \n",
    "    #eye pupil \n",
    "    eye_tuple = (x0, y0, x1, y1)\n",
    "\n",
    "    draw.ellipse(eye_tuple, 'black', 'black')  # made this a little smaller..\n",
    "#     draw.ellipse((50, 20, 60, 30), 'yellow', 'blue')\n",
    "#     draw.arc((20, 40, 70, 70), 0, 180, 'black')  # draw an arc in black\n",
    "    \n",
    "    return draw"
   ]
  },
  {
   "cell_type": "code",
   "execution_count": 19,
   "metadata": {
    "collapsed": false
   },
   "outputs": [],
   "source": [
    "image = Image.new('RGB', (128, 128), 'white')\n",
    "draw = ImageDraw.Draw(image)\n",
    "draw_eye(draw, random.randint(0, 360), random.uniform(0, 1))\n",
    "image.show()"
   ]
  },
  {
   "cell_type": "markdown",
   "metadata": {
    "collapsed": false
   },
   "source": [
    "# Prototyping Eyes. Version 1"
   ]
  },
  {
   "cell_type": "code",
   "execution_count": 5,
   "metadata": {
    "collapsed": false
   },
   "outputs": [],
   "source": [
    "import sys\n",
    "import math\n",
    "import random \n",
    "from operator import itemgetter\n",
    "# from luma.core.serial import spi\n",
    "# from luma.core.render import canvas\n",
    "# from luma.core.sprite_system import framerate_regulator\n",
    "# from luma.lcd.device import st7735 \n",
    "\n",
    "# from utils import "
   ]
  },
  {
   "cell_type": "code",
   "execution_count": 70,
   "metadata": {
    "collapsed": false
   },
   "outputs": [],
   "source": [
    "class Eyes(object):\n",
    "    def __init__(self, width, height, background_color, eye_radius, eye_color, pupil_radius, pupil_color):\n",
    "        #LCD base settings\n",
    "        self._w = width\n",
    "        self._h = height\n",
    "        self._color = background_color\n",
    "        self._eye_radius = eye_radius\n",
    "        self._eye_color = color\n",
    "        \n",
    "        #Eyes base settings \n",
    "        self._x_pos = self._w / 2.0\n",
    "        self._y_pos = self._h / 2.0\n",
    "        # self.bound_box =  (0, 0, width, height)  #seems needless TODO: delete at next commit\n",
    "        # self.outer_radius = (self.bound_box[2] - self.bound_box[0]) / 2   #seems needless TODO: delete at next commit\n",
    "        self._pupil_radius = pupil_radius \n",
    "        self._pupil_orbit_radius = self.eye_radius - self._pupil_size\n",
    "        self._pupil_color = pupil_color\n",
    "        \n",
    "        #speed settings \n",
    "        self._x_speed = 5\n",
    "        self._y_speed = 5\n",
    "\n",
    "    def update_pos(self, x_step = None, y_step = None):\n",
    "        if x_step is None:\n",
    "            x_step = self._x_speed\n",
    "        if у_step is None:\n",
    "            y_step = self._y_speed\n",
    "        \n",
    "        if self._x_pos + self._radius > self._w:\n",
    "            self._x_speed = -abs(x_step)\n",
    "        elif self._x_pos - self._radius < 0.0:\n",
    "            self._x_speed = abs(x_step)\n",
    "\n",
    "        if self._y_pos + self._radius > self._h:\n",
    "            self._y_speed = -abs(y_step)\n",
    "        elif self._y_pos - self._radius < 0.0:\n",
    "            self._y_speed = abs(y_step)\n",
    "\n",
    "        self._x_pos += self._x_speed\n",
    "        self._y_pos += self._y_speed\n",
    "         \n",
    "    def draw(self, canvas):\n",
    "        #draw eye\n",
    "        canvas.ellipse((0,self._eye_radius, 0, self._eye_radius),\n",
    "                     fill=self._eye_color,\n",
    "                     outline=self._eye_color)        \n",
    "        #draw pupil\n",
    "        canvas.ellipse((self._x_pos - self._pupil_radius, \n",
    "                      self._y_pos - self._pupil_radius,\n",
    "                      self._x_pos + self._pupil_radius, \n",
    "                      self._y_pos + self._pupil_radius),\n",
    "                     fill=self._pupil_color,\n",
    "                     outline=self._pupil_color)\n",
    "\n",
    "    #eyes control methods \n",
    "    def get_eyes_position(self):\n",
    "        return (_x_pos, _y_pos)\n",
    "    \n",
    "    def set_eyes_position(self, x, y, canvas):\n",
    "        #define steps to set eyes into new position (x,y)\n",
    "        def get_path_to_point(goal, _pos, _speed):\n",
    "            x_path = []\n",
    "            move = (x1 - x0) / speed\n",
    "            steps_number = math.floor(math.copysign(move, speed))\n",
    "            step_speed = math.copysign(speed, move)\n",
    "            [x_path.append(step_speed) for step in range(1,steps_number)]\n",
    "            return path\n",
    "        \n",
    "        x_path = get_path_to_point(x, self._x_pos,  self._x_speed)\n",
    "        x_path = get_path_to_point(y, self._y_pos,  self._y_speed)\n",
    "        \n",
    "        y_path = range(self._y_pos, y, self._y_speed)\n",
    "        #for each step: update position, draw eyes \n",
    "        for x_step, y_step in zip_longest(x_path, y_path, fillvalue=0):\n",
    "            self.update_pos(x_step, y_step)\n",
    "            self.draw(canvas) \n"
   ]
  },
  {
   "cell_type": "code",
   "execution_count": 56,
   "metadata": {
    "collapsed": false
   },
   "outputs": [],
   "source": [
    "def get_path(x0, x1, speed):\n",
    "    x_path = []\n",
    "    move = (x1 - x0) / speed\n",
    "    steps_number = math.floor(math.copysign(move, speed))\n",
    "    step_speed = math.copysign(speed, move)\n",
    "    [x_path.append(step_speed) for step in range(1,steps_number)]\n",
    "    \n",
    "    return x_path\n",
    "\n",
    "x = get_path(640, 130, 10)\n",
    "y = get_path(20, 130, 10)"
   ]
  },
  {
   "cell_type": "code",
   "execution_count": 66,
   "metadata": {
    "collapsed": false
   },
   "outputs": [
    {
     "ename": "SyntaxError",
     "evalue": "invalid syntax (<ipython-input-66-88677de9b65b>, line 1)",
     "output_type": "error",
     "traceback": [
      "\u001b[0;36m  File \u001b[0;32m\"<ipython-input-66-88677de9b65b>\"\u001b[0;36m, line \u001b[0;32m1\u001b[0m\n\u001b[0;31m    [print(x,y), x, y for x,y in zip_longest(x, y, fillvalue=0)]\u001b[0m\n\u001b[0m                        ^\u001b[0m\n\u001b[0;31mSyntaxError\u001b[0m\u001b[0;31m:\u001b[0m invalid syntax\n"
     ]
    }
   ],
   "source": [
    "[print(x,y), x, y for x,y in zip_longest(x, y, fillvalue=0)]"
   ]
  },
  {
   "cell_type": "code",
   "execution_count": null,
   "metadata": {
    "collapsed": true
   },
   "outputs": [],
   "source": []
  },
  {
   "cell_type": "code",
   "execution_count": 13,
   "metadata": {
    "collapsed": false
   },
   "outputs": [
    {
     "data": {
      "text/plain": [
       "5"
      ]
     },
     "execution_count": 13,
     "metadata": {},
     "output_type": "execute_result"
    }
   ],
   "source": [
    "x_pos = 0\n",
    "y_pos = 0 \n",
    "\n",
    "def update_pos():\n",
    "    x_pos += 5\n",
    "    y_pos += 5\n",
    "    "
   ]
  },
  {
   "cell_type": "code",
   "execution_count": 50,
   "metadata": {
    "collapsed": false
   },
   "outputs": [
    {
     "name": "stdout",
     "output_type": "stream",
     "text": [
      "(None, 64)\n",
      "(None, 74)\n",
      "(None, 84)\n",
      "(None, 94)\n",
      "(None, 104)\n",
      "(None, 114)\n",
      "(None, 124)\n"
     ]
    }
   ],
   "source": [
    "from itertools import zip_longest\n",
    "\n",
    "for tuple  in zip_longest(x_path, y_path):\n",
    "    print(tuple)"
   ]
  },
  {
   "cell_type": "code",
   "execution_count": 68,
   "metadata": {
    "collapsed": false
   },
   "outputs": [],
   "source": [
    "class Ball(object):\n",
    "    def __init__(self, w, h, radius, color):\n",
    "        self._w = w\n",
    "        self._h = h\n",
    "        self._radius = radius\n",
    "        self._color = color\n",
    "        self._x_speed = (random.random() - 0.5) * 10\n",
    "        self._y_speed = (random.random() - 0.5) * 10\n",
    "        self._x_pos = self._w / 2.0\n",
    "        self._y_pos = self._h / 2.0\n",
    "\n",
    "    def update_pos(self):\n",
    "        if self._x_pos + self._radius > self._w:\n",
    "            self._x_speed = -abs(self._x_speed)\n",
    "        elif self._x_pos - self._radius < 0.0:\n",
    "            self._x_speed = abs(self._x_speed)\n",
    "\n",
    "        if self._y_pos + self._radius > self._h:\n",
    "            self._y_speed = -abs(self._y_speed)\n",
    "        elif self._y_pos - self._radius < 0.0:\n",
    "            self._y_speed = abs(self._y_speed)\n",
    "\n",
    "        self._x_pos += self._x_speed\n",
    "        self._y_pos += self._y_speed\n",
    "\n",
    "    def draw(self, canvas):\n",
    "        canvas.ellipse((self._x_pos - self._radius, self._y_pos - self._radius,\n",
    "                       self._x_pos + self._radius, self._y_pos + self._radius), fill=self._color)\n"
   ]
  },
  {
   "cell_type": "code",
   "execution_count": 82,
   "metadata": {
    "collapsed": false
   },
   "outputs": [
    {
     "data": {
      "text/plain": [
       "1"
      ]
     },
     "execution_count": 82,
     "metadata": {},
     "output_type": "execute_result"
    }
   ],
   "source": [
    "import math\n",
    "\n",
    "# float(11/3)\n",
    "math.ceil(0.99)\n"
   ]
  },
  {
   "cell_type": "code",
   "execution_count": null,
   "metadata": {
    "collapsed": true
   },
   "outputs": [],
   "source": []
  },
  {
   "cell_type": "code",
   "execution_count": null,
   "metadata": {
    "collapsed": true
   },
   "outputs": [],
   "source": []
  },
  {
   "cell_type": "code",
   "execution_count": null,
   "metadata": {
    "collapsed": true
   },
   "outputs": [],
   "source": []
  }
 ],
 "metadata": {
  "anaconda-cloud": {},
  "kernelspec": {
   "display_name": "Python [default]",
   "language": "python",
   "name": "python3"
  },
  "language_info": {
   "codemirror_mode": {
    "name": "ipython",
    "version": 3
   },
   "file_extension": ".py",
   "mimetype": "text/x-python",
   "name": "python",
   "nbconvert_exporter": "python",
   "pygments_lexer": "ipython3",
   "version": "3.5.2"
  }
 },
 "nbformat": 4,
 "nbformat_minor": 1
}
