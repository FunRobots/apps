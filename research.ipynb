{
 "cells": [
  {
   "cell_type": "code",
   "execution_count": 6,
   "metadata": {
    "collapsed": false
   },
   "outputs": [],
   "source": [
    "import sys\n",
    "from PIL import Image, ImageDraw, ImageFont\n",
    "from __future__ import print_function\n",
    "import random \n"
   ]
  },
  {
   "cell_type": "code",
   "execution_count": 106,
   "metadata": {
    "collapsed": true
   },
   "outputs": [],
   "source": [
    "#draw smile \n",
    "image = Image.new('RGB', (128, 128), 'white')\n",
    "draw = ImageDraw.Draw(image)\n",
    "draw.ellipse((0, 0, 89, 89), 'yellow', 'blue')  # made this a little smaller..\n",
    "draw.ellipse((25, 20, 35, 30), 'yellow', 'blue')\n",
    "draw.ellipse((50, 20, 60, 30), 'yellow', 'blue')\n",
    "draw.arc((20, 40, 70, 70), 0, 180, 'black')  # draw an arc in black\n",
    "image.show()"
   ]
  },
  {
   "cell_type": "code",
   "execution_count": 7,
   "metadata": {
    "collapsed": true
   },
   "outputs": [],
   "source": [
    "def convert_params_to_coord(angle, distane_from_center_percent, outer_radius):\n",
    "    import math \n",
    "    \n",
    "    angle_rad = math.radians(360 - angle)\n",
    "    distance = distane_from_center_percent * outer_radius\n",
    "    x = math.ceil(distance * math.cos(angle_rad))\n",
    "    y = math.ceil(distance * math.sin(angle_rad))\n",
    "    \n",
    "    return x, y\n",
    "    \n",
    "    "
   ]
  },
  {
   "cell_type": "code",
   "execution_count": 146,
   "metadata": {
    "collapsed": false
   },
   "outputs": [],
   "source": [
    "#test convert_params_to_coord()\n",
    "# convert_params_to_coord(30, 0.2, 70)"
   ]
  },
  {
   "cell_type": "code",
   "execution_count": 8,
   "metadata": {
    "collapsed": false
   },
   "outputs": [],
   "source": [
    "def draw_eye(draw, angle, distane_from_center_percent):\n",
    "    #settings \n",
    "    bound_box = (1, 1, 127, 127)\n",
    "    center_coords = (64, 64)\n",
    "    outer_radius = (bound_box[2] - bound_box[0]) / 2\n",
    "    pr = 20  #pupil radius \n",
    "    pupil_radius = outer_radius - pr\n",
    "    \n",
    "    #calc x, y shift from center\n",
    "    x, y = convert_params_to_coord(angle, distane_from_center_percent, pupil_radius)  \n",
    "     \n",
    "    x0 = center_coords[0] + x - pr\n",
    "    y0 = center_coords[1] + y - pr\n",
    "    x1 = center_coords[0] + x + pr\n",
    "    y1 = center_coords[1] + y + pr\n",
    "    \n",
    "    \n",
    "    #eye outer border\n",
    "    draw.ellipse((3, 3, 125, 125), '#14F6FA', '#14F6FA')\n",
    "    \n",
    "    #eye pupil \n",
    "    eye_tuple = (x0, y0, x1, y1)\n",
    "\n",
    "    draw.ellipse(eye_tuple, 'black', 'black')  # made this a little smaller..\n",
    "#     draw.ellipse((50, 20, 60, 30), 'yellow', 'blue')\n",
    "#     draw.arc((20, 40, 70, 70), 0, 180, 'black')  # draw an arc in black\n",
    "    \n",
    "    return draw"
   ]
  },
  {
   "cell_type": "code",
   "execution_count": 19,
   "metadata": {
    "collapsed": false
   },
   "outputs": [],
   "source": [
    "image = Image.new('RGB', (128, 128), 'white')\n",
    "draw = ImageDraw.Draw(image)\n",
    "draw_eye(draw, random.randint(0, 360), random.uniform(0, 1))\n",
    "image.show()"
   ]
  },
  {
   "cell_type": "code",
   "execution_count": 18,
   "metadata": {
    "collapsed": false
   },
   "outputs": [
    {
     "ename": "ImportError",
     "evalue": "No module named 'luma'",
     "output_type": "error",
     "traceback": [
      "\u001b[0;31m---------------------------------------------------------------------------\u001b[0m",
      "\u001b[0;31mImportError\u001b[0m                               Traceback (most recent call last)",
      "\u001b[0;32m<ipython-input-18-451d63420439>\u001b[0m in \u001b[0;36m<module>\u001b[0;34m()\u001b[0m\n\u001b[1;32m      4\u001b[0m \u001b[0;31m# from ppretty import ppretty\u001b[0m\u001b[0;34m\u001b[0m\u001b[0;34m\u001b[0m\u001b[0m\n\u001b[1;32m      5\u001b[0m \u001b[0;32mfrom\u001b[0m \u001b[0moperator\u001b[0m \u001b[0;32mimport\u001b[0m \u001b[0mitemgetter\u001b[0m\u001b[0;34m\u001b[0m\u001b[0m\n\u001b[0;32m----> 6\u001b[0;31m \u001b[0;32mfrom\u001b[0m \u001b[0mluma\u001b[0m\u001b[0;34m.\u001b[0m\u001b[0mcore\u001b[0m\u001b[0;34m.\u001b[0m\u001b[0mserial\u001b[0m \u001b[0;32mimport\u001b[0m \u001b[0mspi\u001b[0m\u001b[0;34m\u001b[0m\u001b[0m\n\u001b[0m\u001b[1;32m      7\u001b[0m \u001b[0;32mfrom\u001b[0m \u001b[0mluma\u001b[0m\u001b[0;34m.\u001b[0m\u001b[0mcore\u001b[0m\u001b[0;34m.\u001b[0m\u001b[0mrender\u001b[0m \u001b[0;32mimport\u001b[0m \u001b[0mcanvas\u001b[0m\u001b[0;34m\u001b[0m\u001b[0m\n\u001b[1;32m      8\u001b[0m \u001b[0;32mfrom\u001b[0m \u001b[0mluma\u001b[0m\u001b[0;34m.\u001b[0m\u001b[0mcore\u001b[0m\u001b[0;34m.\u001b[0m\u001b[0msprite_system\u001b[0m \u001b[0;32mimport\u001b[0m \u001b[0mframerate_regulator\u001b[0m\u001b[0;34m\u001b[0m\u001b[0m\n",
      "\u001b[0;31mImportError\u001b[0m: No module named 'luma'"
     ]
    }
   ],
   "source": []
  },
  {
   "cell_type": "code",
   "execution_count": null,
   "metadata": {
    "collapsed": false
   },
   "outputs": [],
   "source": []
  },
  {
   "cell_type": "code",
   "execution_count": null,
   "metadata": {
    "collapsed": false
   },
   "outputs": [],
   "source": []
  },
  {
   "cell_type": "code",
   "execution_count": null,
   "metadata": {
    "collapsed": true
   },
   "outputs": [],
   "source": []
  },
  {
   "cell_type": "code",
   "execution_count": null,
   "metadata": {
    "collapsed": true
   },
   "outputs": [],
   "source": []
  },
  {
   "cell_type": "code",
   "execution_count": null,
   "metadata": {
    "collapsed": true
   },
   "outputs": [],
   "source": []
  },
  {
   "cell_type": "code",
   "execution_count": null,
   "metadata": {
    "collapsed": true
   },
   "outputs": [],
   "source": []
  }
 ],
 "metadata": {
  "anaconda-cloud": {},
  "kernelspec": {
   "display_name": "Python [default]",
   "language": "python",
   "name": "python3"
  },
  "language_info": {
   "codemirror_mode": {
    "name": "ipython",
    "version": 3
   },
   "file_extension": ".py",
   "mimetype": "text/x-python",
   "name": "python",
   "nbconvert_exporter": "python",
   "pygments_lexer": "ipython3",
   "version": "3.5.2"
  }
 },
 "nbformat": 4,
 "nbformat_minor": 1
}
